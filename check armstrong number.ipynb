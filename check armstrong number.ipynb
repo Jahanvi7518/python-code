{
 "cells": [
  {
   "cell_type": "code",
   "execution_count": 5,
   "id": "34100e16",
   "metadata": {},
   "outputs": [
    {
     "name": "stdout",
     "output_type": "stream",
     "text": [
      "enter the string1:abcd\n",
      "enter the string2:aghi\n"
     ]
    }
   ],
   "source": [
    "string1=input(\"enter the string1:\")\n",
    "string2=input(\"enter the string2:\")"
   ]
  },
  {
   "cell_type": "code",
   "execution_count": 6,
   "id": "328e4313",
   "metadata": {},
   "outputs": [
    {
     "name": "stdout",
     "output_type": "stream",
     "text": [
      "string is not armstrong\n"
     ]
    }
   ],
   "source": [
    "if len(string1)!=len(string2):\n",
    "    print(\"string is not armstrong\")\n",
    "else:\n",
    "    string1=sorted(string1)\n",
    "    string2=sorted(string2)\n",
    "if string1 ==string2:\n",
    "    print(\"string are armstrong\")\n",
    "else:\n",
    "    print(\"string is not armstrong\")"
   ]
  },
  {
   "cell_type": "code",
   "execution_count": null,
   "id": "72c0edb2",
   "metadata": {},
   "outputs": [],
   "source": []
  }
 ],
 "metadata": {
  "kernelspec": {
   "display_name": "Python 3 (ipykernel)",
   "language": "python",
   "name": "python3"
  },
  "language_info": {
   "codemirror_mode": {
    "name": "ipython",
    "version": 3
   },
   "file_extension": ".py",
   "mimetype": "text/x-python",
   "name": "python",
   "nbconvert_exporter": "python",
   "pygments_lexer": "ipython3",
   "version": "3.10.9"
  }
 },
 "nbformat": 4,
 "nbformat_minor": 5
}
