{
 "cells": [
  {
   "cell_type": "code",
   "execution_count": 3,
   "id": "af716db5",
   "metadata": {},
   "outputs": [
    {
     "name": "stdout",
     "output_type": "stream",
     "text": [
      "Enter the string :fhik\n",
      "Enter character :lkhd\n",
      "0 is the frequency of given character\n"
     ]
    }
   ],
   "source": [
    "#take user input\n",
    "String = input('Enter the string :')\n",
    "#take character input\n",
    "Character = input('Enter character :')\n",
    "#initiaalize int variable to store frequency\n",
    "frequency = 0\n",
    "#use count function to count frequency of character\n",
    "frequency = String.count(Character)\n",
    "#count function is case sencetive \n",
    "#so it print frequency of Character according to given Character\n",
    "print(str(frequency) + ' is the frequency of given character')"
   ]
  },
  {
   "cell_type": "code",
   "execution_count": null,
   "id": "3da125cd",
   "metadata": {},
   "outputs": [],
   "source": []
  },
  {
   "cell_type": "code",
   "execution_count": null,
   "id": "6ff64f98",
   "metadata": {},
   "outputs": [],
   "source": []
  }
 ],
 "metadata": {
  "kernelspec": {
   "display_name": "Python 3 (ipykernel)",
   "language": "python",
   "name": "python3"
  },
  "language_info": {
   "codemirror_mode": {
    "name": "ipython",
    "version": 3
   },
   "file_extension": ".py",
   "mimetype": "text/x-python",
   "name": "python",
   "nbconvert_exporter": "python",
   "pygments_lexer": "ipython3",
   "version": "3.10.9"
  }
 },
 "nbformat": 4,
 "nbformat_minor": 5
}
