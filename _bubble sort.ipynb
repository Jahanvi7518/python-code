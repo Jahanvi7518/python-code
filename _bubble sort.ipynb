{
 "cells": [
  {
   "cell_type": "code",
   "execution_count": 21,
   "id": "9e5c26ee",
   "metadata": {},
   "outputs": [
    {
     "name": "stdout",
     "output_type": "stream",
     "text": [
      "sorrated array is: [13, 14, 23, 23, 64, 64, 86]\n"
     ]
    }
   ],
   "source": [
    "def bubble_Sort(array):\n",
    " for i in range(len(array)-1):\n",
    "   for j in range(0, len(array)-i-1):\n",
    "    if array[j] > array[j + 1] :\n",
    "        temp = array[j]\n",
    "        array[j] = array[j+1]\n",
    "        array[j+1] = temp\n",
    "    \n",
    "arr = [23, 14, 64, 13, 64, 23, 86]  \n",
    "  \n",
    "bubble_Sort(arr)  \n",
    "\n",
    "print(\"sorrated array is:\",arr)"
   ]
  },
  {
   "cell_type": "code",
   "execution_count": null,
   "id": "58bd1520",
   "metadata": {},
   "outputs": [],
   "source": []
  }
 ],
 "metadata": {
  "kernelspec": {
   "display_name": "Python 3 (ipykernel)",
   "language": "python",
   "name": "python3"
  },
  "language_info": {
   "codemirror_mode": {
    "name": "ipython",
    "version": 3
   },
   "file_extension": ".py",
   "mimetype": "text/x-python",
   "name": "python",
   "nbconvert_exporter": "python",
   "pygments_lexer": "ipython3",
   "version": "3.10.9"
  }
 },
 "nbformat": 4,
 "nbformat_minor": 5
}
