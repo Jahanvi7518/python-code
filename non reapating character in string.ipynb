{
 "cells": [
  {
   "cell_type": "code",
   "execution_count": 1,
   "id": "c34c8723",
   "metadata": {},
   "outputs": [
    {
     "name": "stdout",
     "output_type": "stream",
     "text": [
      "r e i n s t a "
     ]
    }
   ],
   "source": [
    "#take user input\n",
    "String = \"prepinsta\"\n",
    "for i in String:\n",
    "    #initialize a count variable\n",
    "    count = 0\n",
    "    for j in String:\n",
    "        #check for repeated characters\n",
    "        if i == j:\n",
    "            count+=1\n",
    "        #if character is found more than 1 time\n",
    "        #brerak the loop\n",
    "        if count > 1:\n",
    "            break\n",
    "    #print for nonrepeating characters\n",
    "    if count == 1:\n",
    "        print(i,end = \" \")"
   ]
  }
 ],
 "metadata": {
  "kernelspec": {
   "display_name": "Python 3 (ipykernel)",
   "language": "python",
   "name": "python3"
  },
  "language_info": {
   "codemirror_mode": {
    "name": "ipython",
    "version": 3
   },
   "file_extension": ".py",
   "mimetype": "text/x-python",
   "name": "python",
   "nbconvert_exporter": "python",
   "pygments_lexer": "ipython3",
   "version": "3.10.9"
  }
 },
 "nbformat": 4,
 "nbformat_minor": 5
}
